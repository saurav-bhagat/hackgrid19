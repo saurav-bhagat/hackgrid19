{
 "cells": [
  {
   "cell_type": "code",
   "execution_count": 1,
   "metadata": {},
   "outputs": [
    {
     "data": {
      "text/html": [
       "<script type=\"text/javascript\">window.PlotlyConfig = {MathJaxConfig: 'local'};</script><script type=\"text/javascript\">if (window.MathJax) {MathJax.Hub.Config({SVG: {font: \"STIX-Web\"}});}</script><script>requirejs.config({paths: { 'plotly': ['https://cdn.plot.ly/plotly-latest.min']},});if(!window._Plotly) {require(['plotly'],function(plotly) {window._Plotly=plotly;});}</script>"
      ],
      "text/vnd.plotly.v1+html": [
       "<script type=\"text/javascript\">window.PlotlyConfig = {MathJaxConfig: 'local'};</script><script type=\"text/javascript\">if (window.MathJax) {MathJax.Hub.Config({SVG: {font: \"STIX-Web\"}});}</script><script>requirejs.config({paths: { 'plotly': ['https://cdn.plot.ly/plotly-latest.min']},});if(!window._Plotly) {require(['plotly'],function(plotly) {window._Plotly=plotly;});}</script>"
      ]
     },
     "metadata": {},
     "output_type": "display_data"
    }
   ],
   "source": [
    "from helpers import Map, load_map_40, show_map\n",
    "import math\n",
    "from path import *"
   ]
  },
  {
   "cell_type": "code",
   "execution_count": 2,
   "metadata": {},
   "outputs": [],
   "source": [
    "PathPlanner.create_closedSet = create_closedSet\n",
    "PathPlanner.create_openSet = create_openSet\n",
    "PathPlanner.create_cameFrom = create_cameFrom\n",
    "PathPlanner.create_gScore = create_gScore\n",
    "PathPlanner.create_fScore = create_fScore\n",
    "PathPlanner.set_map = set_map\n",
    "PathPlanner.set_start = set_start\n",
    "PathPlanner.set_goal = set_goal\n",
    "PathPlanner.get_current_node = get_current_node\n",
    "PathPlanner.get_neighbors = get_neighbors\n",
    "PathPlanner.get_gScore = get_gScore\n",
    "PathPlanner.get_tenative_gScore = get_tenative_gScore\n",
    "PathPlanner.is_open_empty = is_open_empty\n",
    "PathPlanner.distance = distance\n",
    "PathPlanner.heuristic_cost_estimate = heuristic_cost_estimate\n",
    "PathPlanner.calculate_fscore = calculate_fscore\n",
    "PathPlanner.record_best_path_to = record_best_path_to"
   ]
  },
  {
   "cell_type": "code",
   "execution_count": 3,
   "metadata": {},
   "outputs": [],
   "source": [
    "maps = load_map_40()"
   ]
  },
  {
   "cell_type": "code",
   "execution_count": 4,
   "metadata": {},
   "outputs": [],
   "source": [
    "hospital = {\n",
    "        \"Eye Foundation and Research Center\":0,\n",
    "        \"Apollo Gleneagles Hospitals\":23,\n",
    "        \"AMRI Hospitals\":31\n",
    "    }\n",
    "    \n",
    "locations = {\n",
    "    \"Tangra\" : 34,\n",
    "    \"Kankurgachi\" : 2,\n",
    "    \"Beleghata\" :26,\n",
    "    \"Nicco Park\": 19,\n",
    "    \"Sister Nivedita Statue\": 10,\n",
    "    \"Newtown\" : 14,\n",
    "    \"Salt lake stadium\": 20,\n",
    "    \"Kali Mandir\" : 28,\n",
    "    \"LA Block\" : 33\n",
    "}"
   ]
  },
  {
   "cell_type": "code",
   "execution_count": 5,
   "metadata": {},
   "outputs": [],
   "source": [
    "s = 33\n",
    "g = 31\n",
    "planner = PathPlanner(maps, s, g)\n",
    "path = planner.path"
   ]
  },
  {
   "cell_type": "code",
   "execution_count": 6,
   "metadata": {},
   "outputs": [
    {
     "data": {
      "text/plain": [
       "[33, 29, 30, 31]"
      ]
     },
     "execution_count": 6,
     "metadata": {},
     "output_type": "execute_result"
    }
   ],
   "source": [
    "path"
   ]
  },
  {
   "cell_type": "code",
   "execution_count": 7,
   "metadata": {},
   "outputs": [
    {
     "name": "stderr",
     "output_type": "stream",
     "text": [
      "/home/ekansh/anaconda3/envs/hack/lib/python3.7/site-packages/plotly/graph_objs/_deprecations.py:372: DeprecationWarning:\n",
      "\n",
      "plotly.graph_objs.Line is deprecated.\n",
      "Please replace it with one of the following more specific types\n",
      "  - plotly.graph_objs.scatter.Line\n",
      "  - plotly.graph_objs.layout.shape.Line\n",
      "  - etc.\n",
      "\n",
      "\n",
      "/home/ekansh/anaconda3/envs/hack/lib/python3.7/site-packages/plotly/graph_objs/_deprecations.py:426: DeprecationWarning:\n",
      "\n",
      "plotly.graph_objs.Marker is deprecated.\n",
      "Please replace it with one of the following more specific types\n",
      "  - plotly.graph_objs.scatter.Marker\n",
      "  - plotly.graph_objs.histogram.selected.Marker\n",
      "  - etc.\n",
      "\n",
      "\n",
      "/home/ekansh/anaconda3/envs/hack/lib/python3.7/site-packages/plotly/graph_objs/_deprecations.py:39: DeprecationWarning:\n",
      "\n",
      "plotly.graph_objs.Data is deprecated.\n",
      "Please replace it with a list or tuple of instances of the following types\n",
      "  - plotly.graph_objs.Scatter\n",
      "  - plotly.graph_objs.Bar\n",
      "  - plotly.graph_objs.Area\n",
      "  - plotly.graph_objs.Histogram\n",
      "  - etc.\n",
      "\n",
      "\n",
      "/home/ekansh/anaconda3/envs/hack/lib/python3.7/site-packages/plotly/graph_objs/_deprecations.py:531: DeprecationWarning:\n",
      "\n",
      "plotly.graph_objs.XAxis is deprecated.\n",
      "Please replace it with one of the following more specific types\n",
      "  - plotly.graph_objs.layout.XAxis\n",
      "  - plotly.graph_objs.layout.scene.XAxis\n",
      "\n",
      "\n",
      "/home/ekansh/anaconda3/envs/hack/lib/python3.7/site-packages/plotly/graph_objs/_deprecations.py:558: DeprecationWarning:\n",
      "\n",
      "plotly.graph_objs.YAxis is deprecated.\n",
      "Please replace it with one of the following more specific types\n",
      "  - plotly.graph_objs.layout.YAxis\n",
      "  - plotly.graph_objs.layout.scene.YAxis\n",
      "\n",
      "\n"
     ]
    },
    {
     "name": "stdout",
     "output_type": "stream",
     "text": [
      "<div><div id=\"01413f57-83f2-4eb1-824c-cc7642a64c60\" style=\"height: 100%; width: 100%;\" class=\"plotly-graph-div\"></div><script type=\"text/javascript\">window.PLOTLYENV=window.PLOTLYENV || {};window.PLOTLYENV.BASE_URL=\"https://plot.ly\";\n",
      "if (document.getElementById(\"01413f57-83f2-4eb1-824c-cc7642a64c60\")) {\n",
      "    Plotly.newPlot(\"01413f57-83f2-4eb1-824c-cc7642a64c60\", [{\"hoverinfo\": \"none\", \"line\": {\"color\": \"#888\", \"width\": 1}, \"mode\": \"lines\", \"x\": [62, 54, null, 54, 106, null, 106, 247, null, 106, 84, null, 247, 308, null, 308, 408, null, 308, 336, null, 408, 445, null, 445, 474, null, 445, 336, null, 544, 559, null, 544, 474, null, 544, 513, null, 544, 629, null, 474, 449, null, 629, 652, null, 629, 689, null, 629, 588, null, 559, 652, null, 652, 679, null, 652, 718, null, 679, 743, null, 679, 718, null, 743, 783, null, 783, 718, null, 718, 689, null, 689, 639, null, 588, 639, null, 588, 513, null, 513, 449, null, 513, 499, null, 639, 584, null, 449, 367, null, 367, 336, null, 367, 197, null, 367, 446, null, 336, 311, null, 197, 84, null, 84, 153, null, 84, 84, null, 153, 221, null, 153, 82, null, 221, 349, null, 349, 446, null, 446, 483, null, 446, 509, null, 483, 499, null, 483, 584, null, 584, 509, null, 82, 84, null], \"y\": [-36, -61, null, -61, -67, null, -67, -77, null, -67, -228, null, -77, -58, null, -58, -40, null, -58, -159, null, -40, -95, null, -95, -121, null, -95, -159, null, -137, -76, null, -137, -121, null, -137, -257, null, -137, -159, null, -121, -238, null, -159, -99, null, -159, -180, null, -159, -275, null, -76, -99, null, -99, -55, null, -99, -121, null, -55, -20, null, -55, -121, null, -20, -84, null, -84, -121, null, -121, -180, null, -180, -291, null, -275, -291, null, -275, -257, null, -257, -238, null, -257, -322, null, -291, -408, null, -238, -253, null, -253, -159, null, -253, -250, null, -253, -445, null, -159, -166, null, -250, -228, null, -228, -338, null, -228, -293, null, -338, -421, null, -338, -377, null, -421, -449, null, -449, -445, null, -445, -377, null, -445, -524, null, -377, -322, null, -377, -408, null, -408, -524, null, -377, -293, null], \"type\": \"scatter\", \"uid\": \"f73c1864-8aef-4f60-a819-9b8a1b071f0a\"}, {\"hoverinfo\": \"text\", \"marker\": {\"color\": \"red\", \"colorbar\": {\"thickness\": 15, \"title\": {\"side\": \"right\", \"text\": \"Node Connections\"}, \"xanchor\": \"left\"}, \"colorscale\": \"Hot\", \"line\": {\"width\": 2}, \"reversescale\": true, \"showscale\": false, \"size\": 15, \"symbol\": 3}, \"mode\": \"markers+text\", \"text\": [\"Eye Foundation and Research Center\", \"Apollo Gleneagles Hospitals\", \"AMRI Hospitals\"], \"textposition\": \"top right\", \"x\": [62, 311, 499], \"y\": [-36, -166, -322], \"type\": \"scatter\", \"uid\": \"027b1571-b7a7-47bf-94f5-67ee3d21f8af\"}, {\"hoverinfo\": \"text\", \"marker\": {\"colorbar\": {\"thickness\": 15, \"title\": {\"side\": \"right\", \"text\": \"Node Connections\"}, \"xanchor\": \"left\"}, \"colorscale\": \"Hot\", \"line\": {\"width\": 2}, \"reversescale\": true, \"showscale\": false, \"size\": 15, \"symbol\": 114}, \"mode\": \"markers+text\", \"text\": [\"Tangra\", \"Kankurgachi\", \"Beleghata\", \"Nicco Park\", \"Sister Nivedita Statue\", \"Newtown\", \"Salt lake stadium\", \"Kali Mandir\", \"LA Block\"], \"textposition\": \"top center\", \"x\": [82, 106, 153, 639, 559, 783, 449, 349, 509], \"y\": [-377, -67, -338, -291, -76, -84, -238, -449, -524], \"type\": \"scatter\", \"uid\": \"e1098a6e-d531-4d2a-b902-0b77199d2fa8\"}, {\"hoverinfo\": \"none\", \"line\": {\"color\": \"blue\", \"width\": 4}, \"mode\": \"lines\", \"x\": [509, 509, null, 509, 446, null, 446, 483, null, 483, 499, null, 499, 499, null], \"y\": [-524, -524, null, -524, -445, null, -445, -377, null, -377, -322, null, -322, -322, null], \"type\": \"scatter\", \"uid\": \"8e4b5c05-5ed1-4444-9cfa-5fa41f40d15f\"}], {\"hovermode\": \"closest\", \"margin\": {\"b\": 20, \"l\": 5, \"r\": 5, \"t\": 40}, \"showlegend\": false, \"title\": {\"font\": {\"size\": 16}, \"text\": \"<br>Ambulance path\"}, \"xaxis\": {\"showgrid\": false, \"showticklabels\": false, \"zeroline\": false}, \"yaxis\": {\"showgrid\": false, \"showticklabels\": false, \"zeroline\": false}}, {\"showLink\": false, \"linkText\": \"Export to plot.ly\", \"plotlyServerURL\": \"https://plot.ly\"}); \n",
      "}\n",
      "</script><script type=\"text/javascript\">window.addEventListener(\"resize\", function(){if (document.getElementById(\"01413f57-83f2-4eb1-824c-cc7642a64c60\")) {Plotly.Plots.resize(document.getElementById(\"01413f57-83f2-4eb1-824c-cc7642a64c60\"));};})</script></div>\n"
     ]
    },
    {
     "data": {
      "application/vnd.plotly.v1+json": {
       "config": {
        "linkText": "Export to plot.ly",
        "plotlyServerURL": "https://plot.ly",
        "showLink": false
       },
       "data": [
        {
         "hoverinfo": "none",
         "line": {
          "color": "#888",
          "width": 1
         },
         "mode": "lines",
         "type": "scatter",
         "uid": "f73c1864-8aef-4f60-a819-9b8a1b071f0a",
         "x": [
          62,
          54,
          null,
          54,
          106,
          null,
          106,
          247,
          null,
          106,
          84,
          null,
          247,
          308,
          null,
          308,
          408,
          null,
          308,
          336,
          null,
          408,
          445,
          null,
          445,
          474,
          null,
          445,
          336,
          null,
          544,
          559,
          null,
          544,
          474,
          null,
          544,
          513,
          null,
          544,
          629,
          null,
          474,
          449,
          null,
          629,
          652,
          null,
          629,
          689,
          null,
          629,
          588,
          null,
          559,
          652,
          null,
          652,
          679,
          null,
          652,
          718,
          null,
          679,
          743,
          null,
          679,
          718,
          null,
          743,
          783,
          null,
          783,
          718,
          null,
          718,
          689,
          null,
          689,
          639,
          null,
          588,
          639,
          null,
          588,
          513,
          null,
          513,
          449,
          null,
          513,
          499,
          null,
          639,
          584,
          null,
          449,
          367,
          null,
          367,
          336,
          null,
          367,
          197,
          null,
          367,
          446,
          null,
          336,
          311,
          null,
          197,
          84,
          null,
          84,
          153,
          null,
          84,
          84,
          null,
          153,
          221,
          null,
          153,
          82,
          null,
          221,
          349,
          null,
          349,
          446,
          null,
          446,
          483,
          null,
          446,
          509,
          null,
          483,
          499,
          null,
          483,
          584,
          null,
          584,
          509,
          null,
          82,
          84,
          null
         ],
         "y": [
          -36,
          -61,
          null,
          -61,
          -67,
          null,
          -67,
          -77,
          null,
          -67,
          -228,
          null,
          -77,
          -58,
          null,
          -58,
          -40,
          null,
          -58,
          -159,
          null,
          -40,
          -95,
          null,
          -95,
          -121,
          null,
          -95,
          -159,
          null,
          -137,
          -76,
          null,
          -137,
          -121,
          null,
          -137,
          -257,
          null,
          -137,
          -159,
          null,
          -121,
          -238,
          null,
          -159,
          -99,
          null,
          -159,
          -180,
          null,
          -159,
          -275,
          null,
          -76,
          -99,
          null,
          -99,
          -55,
          null,
          -99,
          -121,
          null,
          -55,
          -20,
          null,
          -55,
          -121,
          null,
          -20,
          -84,
          null,
          -84,
          -121,
          null,
          -121,
          -180,
          null,
          -180,
          -291,
          null,
          -275,
          -291,
          null,
          -275,
          -257,
          null,
          -257,
          -238,
          null,
          -257,
          -322,
          null,
          -291,
          -408,
          null,
          -238,
          -253,
          null,
          -253,
          -159,
          null,
          -253,
          -250,
          null,
          -253,
          -445,
          null,
          -159,
          -166,
          null,
          -250,
          -228,
          null,
          -228,
          -338,
          null,
          -228,
          -293,
          null,
          -338,
          -421,
          null,
          -338,
          -377,
          null,
          -421,
          -449,
          null,
          -449,
          -445,
          null,
          -445,
          -377,
          null,
          -445,
          -524,
          null,
          -377,
          -322,
          null,
          -377,
          -408,
          null,
          -408,
          -524,
          null,
          -377,
          -293,
          null
         ]
        },
        {
         "hoverinfo": "text",
         "marker": {
          "color": "red",
          "colorbar": {
           "thickness": 15,
           "title": {
            "side": "right",
            "text": "Node Connections"
           },
           "xanchor": "left"
          },
          "colorscale": "Hot",
          "line": {
           "width": 2
          },
          "reversescale": true,
          "showscale": false,
          "size": 15,
          "symbol": 3
         },
         "mode": "markers+text",
         "text": [
          "Eye Foundation and Research Center",
          "Apollo Gleneagles Hospitals",
          "AMRI Hospitals"
         ],
         "textposition": "top right",
         "type": "scatter",
         "uid": "027b1571-b7a7-47bf-94f5-67ee3d21f8af",
         "x": [
          62,
          311,
          499
         ],
         "y": [
          -36,
          -166,
          -322
         ]
        },
        {
         "hoverinfo": "text",
         "marker": {
          "colorbar": {
           "thickness": 15,
           "title": {
            "side": "right",
            "text": "Node Connections"
           },
           "xanchor": "left"
          },
          "colorscale": "Hot",
          "line": {
           "width": 2
          },
          "reversescale": true,
          "showscale": false,
          "size": 15,
          "symbol": 114
         },
         "mode": "markers+text",
         "text": [
          "Tangra",
          "Kankurgachi",
          "Beleghata",
          "Nicco Park",
          "Sister Nivedita Statue",
          "Newtown",
          "Salt lake stadium",
          "Kali Mandir",
          "LA Block"
         ],
         "textposition": "top center",
         "type": "scatter",
         "uid": "e1098a6e-d531-4d2a-b902-0b77199d2fa8",
         "x": [
          82,
          106,
          153,
          639,
          559,
          783,
          449,
          349,
          509
         ],
         "y": [
          -377,
          -67,
          -338,
          -291,
          -76,
          -84,
          -238,
          -449,
          -524
         ]
        },
        {
         "hoverinfo": "none",
         "line": {
          "color": "blue",
          "width": 4
         },
         "mode": "lines",
         "type": "scatter",
         "uid": "8e4b5c05-5ed1-4444-9cfa-5fa41f40d15f",
         "x": [
          509,
          509,
          null,
          509,
          446,
          null,
          446,
          483,
          null,
          483,
          499,
          null,
          499,
          499,
          null
         ],
         "y": [
          -524,
          -524,
          null,
          -524,
          -445,
          null,
          -445,
          -377,
          null,
          -377,
          -322,
          null,
          -322,
          -322,
          null
         ]
        }
       ],
       "layout": {
        "hovermode": "closest",
        "margin": {
         "b": 20,
         "l": 5,
         "r": 5,
         "t": 40
        },
        "showlegend": false,
        "title": {
         "font": {
          "size": 16
         },
         "text": "<br>Ambulance path"
        },
        "xaxis": {
         "showgrid": false,
         "showticklabels": false,
         "zeroline": false
        },
        "yaxis": {
         "showgrid": false,
         "showticklabels": false,
         "zeroline": false
        }
       }
      },
      "text/html": [
       "<div id=\"bed49817-01bf-445e-986e-11dd42b3f4c1\" style=\"height: 525px; width: 100%;\" class=\"plotly-graph-div\"></div><script type=\"text/javascript\">require([\"plotly\"], function(Plotly) { window.PLOTLYENV=window.PLOTLYENV || {};window.PLOTLYENV.BASE_URL=\"https://plot.ly\";\n",
       "if (document.getElementById(\"bed49817-01bf-445e-986e-11dd42b3f4c1\")) {\n",
       "    Plotly.newPlot(\"bed49817-01bf-445e-986e-11dd42b3f4c1\", [{\"hoverinfo\": \"none\", \"line\": {\"color\": \"#888\", \"width\": 1}, \"mode\": \"lines\", \"x\": [62, 54, null, 54, 106, null, 106, 247, null, 106, 84, null, 247, 308, null, 308, 408, null, 308, 336, null, 408, 445, null, 445, 474, null, 445, 336, null, 544, 559, null, 544, 474, null, 544, 513, null, 544, 629, null, 474, 449, null, 629, 652, null, 629, 689, null, 629, 588, null, 559, 652, null, 652, 679, null, 652, 718, null, 679, 743, null, 679, 718, null, 743, 783, null, 783, 718, null, 718, 689, null, 689, 639, null, 588, 639, null, 588, 513, null, 513, 449, null, 513, 499, null, 639, 584, null, 449, 367, null, 367, 336, null, 367, 197, null, 367, 446, null, 336, 311, null, 197, 84, null, 84, 153, null, 84, 84, null, 153, 221, null, 153, 82, null, 221, 349, null, 349, 446, null, 446, 483, null, 446, 509, null, 483, 499, null, 483, 584, null, 584, 509, null, 82, 84, null], \"y\": [-36, -61, null, -61, -67, null, -67, -77, null, -67, -228, null, -77, -58, null, -58, -40, null, -58, -159, null, -40, -95, null, -95, -121, null, -95, -159, null, -137, -76, null, -137, -121, null, -137, -257, null, -137, -159, null, -121, -238, null, -159, -99, null, -159, -180, null, -159, -275, null, -76, -99, null, -99, -55, null, -99, -121, null, -55, -20, null, -55, -121, null, -20, -84, null, -84, -121, null, -121, -180, null, -180, -291, null, -275, -291, null, -275, -257, null, -257, -238, null, -257, -322, null, -291, -408, null, -238, -253, null, -253, -159, null, -253, -250, null, -253, -445, null, -159, -166, null, -250, -228, null, -228, -338, null, -228, -293, null, -338, -421, null, -338, -377, null, -421, -449, null, -449, -445, null, -445, -377, null, -445, -524, null, -377, -322, null, -377, -408, null, -408, -524, null, -377, -293, null], \"type\": \"scatter\", \"uid\": \"f73c1864-8aef-4f60-a819-9b8a1b071f0a\"}, {\"hoverinfo\": \"text\", \"marker\": {\"color\": \"red\", \"colorbar\": {\"thickness\": 15, \"title\": {\"side\": \"right\", \"text\": \"Node Connections\"}, \"xanchor\": \"left\"}, \"colorscale\": \"Hot\", \"line\": {\"width\": 2}, \"reversescale\": true, \"showscale\": false, \"size\": 15, \"symbol\": 3}, \"mode\": \"markers+text\", \"text\": [\"Eye Foundation and Research Center\", \"Apollo Gleneagles Hospitals\", \"AMRI Hospitals\"], \"textposition\": \"top right\", \"x\": [62, 311, 499], \"y\": [-36, -166, -322], \"type\": \"scatter\", \"uid\": \"027b1571-b7a7-47bf-94f5-67ee3d21f8af\"}, {\"hoverinfo\": \"text\", \"marker\": {\"colorbar\": {\"thickness\": 15, \"title\": {\"side\": \"right\", \"text\": \"Node Connections\"}, \"xanchor\": \"left\"}, \"colorscale\": \"Hot\", \"line\": {\"width\": 2}, \"reversescale\": true, \"showscale\": false, \"size\": 15, \"symbol\": 114}, \"mode\": \"markers+text\", \"text\": [\"Tangra\", \"Kankurgachi\", \"Beleghata\", \"Nicco Park\", \"Sister Nivedita Statue\", \"Newtown\", \"Salt lake stadium\", \"Kali Mandir\", \"LA Block\"], \"textposition\": \"top center\", \"x\": [82, 106, 153, 639, 559, 783, 449, 349, 509], \"y\": [-377, -67, -338, -291, -76, -84, -238, -449, -524], \"type\": \"scatter\", \"uid\": \"e1098a6e-d531-4d2a-b902-0b77199d2fa8\"}, {\"hoverinfo\": \"none\", \"line\": {\"color\": \"blue\", \"width\": 4}, \"mode\": \"lines\", \"x\": [509, 509, null, 509, 446, null, 446, 483, null, 483, 499, null, 499, 499, null], \"y\": [-524, -524, null, -524, -445, null, -445, -377, null, -377, -322, null, -322, -322, null], \"type\": \"scatter\", \"uid\": \"8e4b5c05-5ed1-4444-9cfa-5fa41f40d15f\"}], {\"hovermode\": \"closest\", \"margin\": {\"b\": 20, \"l\": 5, \"r\": 5, \"t\": 40}, \"showlegend\": false, \"title\": {\"font\": {\"size\": 16}, \"text\": \"<br>Ambulance path\"}, \"xaxis\": {\"showgrid\": false, \"showticklabels\": false, \"zeroline\": false}, \"yaxis\": {\"showgrid\": false, \"showticklabels\": false, \"zeroline\": false}}, {\"showLink\": false, \"linkText\": \"Export to plot.ly\", \"plotlyServerURL\": \"https://plot.ly\"}); \n",
       "}\n",
       "});</script><script type=\"text/javascript\">window.addEventListener(\"resize\", function(){if (document.getElementById(\"bed49817-01bf-445e-986e-11dd42b3f4c1\")) {window._Plotly.Plots.resize(document.getElementById(\"bed49817-01bf-445e-986e-11dd42b3f4c1\"));};})</script>"
      ],
      "text/vnd.plotly.v1+html": [
       "<div id=\"bed49817-01bf-445e-986e-11dd42b3f4c1\" style=\"height: 525px; width: 100%;\" class=\"plotly-graph-div\"></div><script type=\"text/javascript\">require([\"plotly\"], function(Plotly) { window.PLOTLYENV=window.PLOTLYENV || {};window.PLOTLYENV.BASE_URL=\"https://plot.ly\";\n",
       "if (document.getElementById(\"bed49817-01bf-445e-986e-11dd42b3f4c1\")) {\n",
       "    Plotly.newPlot(\"bed49817-01bf-445e-986e-11dd42b3f4c1\", [{\"hoverinfo\": \"none\", \"line\": {\"color\": \"#888\", \"width\": 1}, \"mode\": \"lines\", \"x\": [62, 54, null, 54, 106, null, 106, 247, null, 106, 84, null, 247, 308, null, 308, 408, null, 308, 336, null, 408, 445, null, 445, 474, null, 445, 336, null, 544, 559, null, 544, 474, null, 544, 513, null, 544, 629, null, 474, 449, null, 629, 652, null, 629, 689, null, 629, 588, null, 559, 652, null, 652, 679, null, 652, 718, null, 679, 743, null, 679, 718, null, 743, 783, null, 783, 718, null, 718, 689, null, 689, 639, null, 588, 639, null, 588, 513, null, 513, 449, null, 513, 499, null, 639, 584, null, 449, 367, null, 367, 336, null, 367, 197, null, 367, 446, null, 336, 311, null, 197, 84, null, 84, 153, null, 84, 84, null, 153, 221, null, 153, 82, null, 221, 349, null, 349, 446, null, 446, 483, null, 446, 509, null, 483, 499, null, 483, 584, null, 584, 509, null, 82, 84, null], \"y\": [-36, -61, null, -61, -67, null, -67, -77, null, -67, -228, null, -77, -58, null, -58, -40, null, -58, -159, null, -40, -95, null, -95, -121, null, -95, -159, null, -137, -76, null, -137, -121, null, -137, -257, null, -137, -159, null, -121, -238, null, -159, -99, null, -159, -180, null, -159, -275, null, -76, -99, null, -99, -55, null, -99, -121, null, -55, -20, null, -55, -121, null, -20, -84, null, -84, -121, null, -121, -180, null, -180, -291, null, -275, -291, null, -275, -257, null, -257, -238, null, -257, -322, null, -291, -408, null, -238, -253, null, -253, -159, null, -253, -250, null, -253, -445, null, -159, -166, null, -250, -228, null, -228, -338, null, -228, -293, null, -338, -421, null, -338, -377, null, -421, -449, null, -449, -445, null, -445, -377, null, -445, -524, null, -377, -322, null, -377, -408, null, -408, -524, null, -377, -293, null], \"type\": \"scatter\", \"uid\": \"f73c1864-8aef-4f60-a819-9b8a1b071f0a\"}, {\"hoverinfo\": \"text\", \"marker\": {\"color\": \"red\", \"colorbar\": {\"thickness\": 15, \"title\": {\"side\": \"right\", \"text\": \"Node Connections\"}, \"xanchor\": \"left\"}, \"colorscale\": \"Hot\", \"line\": {\"width\": 2}, \"reversescale\": true, \"showscale\": false, \"size\": 15, \"symbol\": 3}, \"mode\": \"markers+text\", \"text\": [\"Eye Foundation and Research Center\", \"Apollo Gleneagles Hospitals\", \"AMRI Hospitals\"], \"textposition\": \"top right\", \"x\": [62, 311, 499], \"y\": [-36, -166, -322], \"type\": \"scatter\", \"uid\": \"027b1571-b7a7-47bf-94f5-67ee3d21f8af\"}, {\"hoverinfo\": \"text\", \"marker\": {\"colorbar\": {\"thickness\": 15, \"title\": {\"side\": \"right\", \"text\": \"Node Connections\"}, \"xanchor\": \"left\"}, \"colorscale\": \"Hot\", \"line\": {\"width\": 2}, \"reversescale\": true, \"showscale\": false, \"size\": 15, \"symbol\": 114}, \"mode\": \"markers+text\", \"text\": [\"Tangra\", \"Kankurgachi\", \"Beleghata\", \"Nicco Park\", \"Sister Nivedita Statue\", \"Newtown\", \"Salt lake stadium\", \"Kali Mandir\", \"LA Block\"], \"textposition\": \"top center\", \"x\": [82, 106, 153, 639, 559, 783, 449, 349, 509], \"y\": [-377, -67, -338, -291, -76, -84, -238, -449, -524], \"type\": \"scatter\", \"uid\": \"e1098a6e-d531-4d2a-b902-0b77199d2fa8\"}, {\"hoverinfo\": \"none\", \"line\": {\"color\": \"blue\", \"width\": 4}, \"mode\": \"lines\", \"x\": [509, 509, null, 509, 446, null, 446, 483, null, 483, 499, null, 499, 499, null], \"y\": [-524, -524, null, -524, -445, null, -445, -377, null, -377, -322, null, -322, -322, null], \"type\": \"scatter\", \"uid\": \"8e4b5c05-5ed1-4444-9cfa-5fa41f40d15f\"}], {\"hovermode\": \"closest\", \"margin\": {\"b\": 20, \"l\": 5, \"r\": 5, \"t\": 40}, \"showlegend\": false, \"title\": {\"font\": {\"size\": 16}, \"text\": \"<br>Ambulance path\"}, \"xaxis\": {\"showgrid\": false, \"showticklabels\": false, \"zeroline\": false}, \"yaxis\": {\"showgrid\": false, \"showticklabels\": false, \"zeroline\": false}}, {\"showLink\": false, \"linkText\": \"Export to plot.ly\", \"plotlyServerURL\": \"https://plot.ly\"}); \n",
       "}\n",
       "});</script><script type=\"text/javascript\">window.addEventListener(\"resize\", function(){if (document.getElementById(\"bed49817-01bf-445e-986e-11dd42b3f4c1\")) {window._Plotly.Plots.resize(document.getElementById(\"bed49817-01bf-445e-986e-11dd42b3f4c1\"));};})</script>"
      ]
     },
     "metadata": {},
     "output_type": "display_data"
    }
   ],
   "source": [
    "show_map(maps, start=s, goal=g, path=planner.path)"
   ]
  },
  {
   "cell_type": "code",
   "execution_count": null,
   "metadata": {},
   "outputs": [],
   "source": []
  },
  {
   "cell_type": "code",
   "execution_count": null,
   "metadata": {},
   "outputs": [],
   "source": []
  },
  {
   "cell_type": "code",
   "execution_count": null,
   "metadata": {},
   "outputs": [],
   "source": []
  },
  {
   "cell_type": "code",
   "execution_count": null,
   "metadata": {},
   "outputs": [],
   "source": []
  },
  {
   "cell_type": "code",
   "execution_count": null,
   "metadata": {},
   "outputs": [],
   "source": []
  },
  {
   "cell_type": "code",
   "execution_count": null,
   "metadata": {},
   "outputs": [],
   "source": []
  }
 ],
 "metadata": {
  "kernelspec": {
   "display_name": "Python (hack)",
   "language": "python",
   "name": "hack"
  },
  "language_info": {
   "codemirror_mode": {
    "name": "ipython",
    "version": 3
   },
   "file_extension": ".py",
   "mimetype": "text/x-python",
   "name": "python",
   "nbconvert_exporter": "python",
   "pygments_lexer": "ipython3",
   "version": "3.7.1"
  }
 },
 "nbformat": 4,
 "nbformat_minor": 2
}
